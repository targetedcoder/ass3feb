{
 "cells": [
  {
   "cell_type": "code",
   "execution_count": 3,
   "id": "6c6cd43f",
   "metadata": {},
   "outputs": [
    {
     "name": "stdout",
     "output_type": "stream",
     "text": [
      "1 3 5 7 9 11 13 15 17 19 21 23 25 "
     ]
    }
   ],
   "source": [
    "def fun():\n",
    "    for i in range(0,26):\n",
    "        if i%2!=0:\n",
    "            print(i,end=\" \")\n",
    "fun()"
   ]
  },
  {
   "cell_type": "code",
   "execution_count": 4,
   "id": "7666bd46",
   "metadata": {},
   "outputs": [
    {
     "data": {
      "text/plain": [
       "(1, 2, 3, 4, [5, 6], (7, 8, 2, 12))"
      ]
     },
     "execution_count": 4,
     "metadata": {},
     "output_type": "execute_result"
    }
   ],
   "source": [
    "def fun(*args):\n",
    "    return args\n",
    "fun(1,2,3,4,[5,6],(7,8,2,12))"
   ]
  },
  {
   "cell_type": "code",
   "execution_count": 11,
   "id": "7088022f",
   "metadata": {},
   "outputs": [
    {
     "data": {
      "text/plain": [
       "[0, 1, 1, 2, 3, 5, 8, 13, 21, 34]"
      ]
     },
     "execution_count": 11,
     "metadata": {},
     "output_type": "execute_result"
    }
   ],
   "source": [
    "def fib():\n",
    "    l=[]\n",
    "    i=1\n",
    "    l.append(0)\n",
    "    l.append(1)\n",
    "    while(i<9):\n",
    "        l.append(l[i]+l[i-1])\n",
    "        i=i+1\n",
    "    return l\n",
    "fib()"
   ]
  },
  {
   "cell_type": "code",
   "execution_count": 16,
   "id": "31da5aa2",
   "metadata": {},
   "outputs": [
    {
     "name": "stdout",
     "output_type": "stream",
     "text": [
      "['p', 'w', 's', 'k', 'i', 'l', 'l', 's']\n"
     ]
    }
   ],
   "source": [
    "s=\"pwskills\"\n",
    "l=list(s)\n",
    "print(l)"
   ]
  },
  {
   "cell_type": "code",
   "execution_count": 17,
   "id": "6870b289",
   "metadata": {},
   "outputs": [
    {
     "data": {
      "text/plain": [
       "['p', 'w', 's', 'k', 'i', 'l', 'l', 's']"
      ]
     },
     "execution_count": 17,
     "metadata": {},
     "output_type": "execute_result"
    }
   ],
   "source": [
    "s=\"pwskills\"\n",
    "[i for i in s]"
   ]
  },
  {
   "cell_type": "code",
   "execution_count": 2,
   "id": "57f98d20",
   "metadata": {},
   "outputs": [
    {
     "name": "stdout",
     "output_type": "stream",
     "text": [
      "Enter number:232\n",
      "The number is a palindrome!\n"
     ]
    }
   ],
   "source": [
    "n=int(input(\"Enter number:\"))\n",
    "temp=n\n",
    "rev=0\n",
    "while(n>0):\n",
    "    dig=n%10\n",
    "    rev=rev*10+dig\n",
    "    n=n//10\n",
    "if(temp==rev):\n",
    "    print(\"The number is a palindrome!\")\n",
    "else:\n",
    "    print(\"The number isn't a palindrome!\")"
   ]
  },
  {
   "cell_type": "code",
   "execution_count": 25,
   "id": "f4e9dfe5",
   "metadata": {},
   "outputs": [
    {
     "data": {
      "text/plain": [
       "[1,\n",
       " 3,\n",
       " 5,\n",
       " 7,\n",
       " 9,\n",
       " 11,\n",
       " 13,\n",
       " 15,\n",
       " 17,\n",
       " 19,\n",
       " 21,\n",
       " 23,\n",
       " 25,\n",
       " 27,\n",
       " 29,\n",
       " 31,\n",
       " 33,\n",
       " 35,\n",
       " 37,\n",
       " 39,\n",
       " 41,\n",
       " 43,\n",
       " 45,\n",
       " 47,\n",
       " 49,\n",
       " 51,\n",
       " 53,\n",
       " 55,\n",
       " 57,\n",
       " 59,\n",
       " 61,\n",
       " 63,\n",
       " 65,\n",
       " 67,\n",
       " 69,\n",
       " 71,\n",
       " 73,\n",
       " 75,\n",
       " 77,\n",
       " 79,\n",
       " 81,\n",
       " 83,\n",
       " 85,\n",
       " 87,\n",
       " 89,\n",
       " 91,\n",
       " 93,\n",
       " 95,\n",
       " 97,\n",
       " 99]"
      ]
     },
     "execution_count": 25,
     "metadata": {},
     "output_type": "execute_result"
    }
   ],
   "source": [
    "[i for i in range(1,101) if i%2!=0]"
   ]
  },
  {
   "cell_type": "code",
   "execution_count": null,
   "id": "79575658",
   "metadata": {},
   "outputs": [],
   "source": []
  }
 ],
 "metadata": {
  "kernelspec": {
   "display_name": "Python 3 (ipykernel)",
   "language": "python",
   "name": "python3"
  },
  "language_info": {
   "codemirror_mode": {
    "name": "ipython",
    "version": 3
   },
   "file_extension": ".py",
   "mimetype": "text/x-python",
   "name": "python",
   "nbconvert_exporter": "python",
   "pygments_lexer": "ipython3",
   "version": "3.9.13"
  }
 },
 "nbformat": 4,
 "nbformat_minor": 5
}
